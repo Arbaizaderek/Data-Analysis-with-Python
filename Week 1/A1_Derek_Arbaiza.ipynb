{
 "cells": [
  {
   "cell_type": "code",
   "execution_count": null,
   "id": "0d6dbf9b",
   "metadata": {},
   "outputs": [],
   "source": [
    "#El Zen de Python es una colección de 19 \"principios\" para escribir programas de computadora que influyen en el diseño del lenguaje de programación Python. \n",
    "#El ingeniero de software Tim Peters escribió este conjunto de principios y lo publicó en la lista de correo de Python en 1999. \n",
    "#La lista de Peters dejó abierto un vigésimo principio \"para que lo complete Guido\", refiriéndose a Guido van Rossum, el autor original del lenguaje Python. La vacante para un vigésimo principio no ha sido cubierta.\n",
    "#Zen of Python de Peters se incluyó como entrada número 20 en las Propuestas de mejora de Python oficiales del lenguaje y se lanzó al dominio público.\n",
    "#También se incluye como Easter egg (como una referencia) en el intérprete de Python, donde se puede mostrar ingresando import this.\n",
    "\n",
    "#Explicit is better than implicit.\n",
    "#Es mejor ser lo más explícito posible sobre todo para darle un alto grado de facilidad de lectura.\n",
    "\n",
    "#Es mejor tener por ejemplo:\n",
    "base = 5\n",
    "height = 10\n",
    "area = base*height\n",
    "\n",
    "#A tener:\n",
    "f26173650a = 5\n",
    "e686569676874 = 10\n",
    "b61726561 = f26173650a * e686569676874\n"
   ]
  },
  {
   "cell_type": "code",
   "execution_count": 1,
   "id": "caccf9b0",
   "metadata": {},
   "outputs": [
    {
     "name": "stdout",
     "output_type": "stream",
     "text": [
      "30\n",
      "Yeah, Your answer is : 1\n",
      "This is always executed\n",
      "Sorry, You are dividing by zero \n",
      "This is always executed\n"
     ]
    }
   ],
   "source": [
    "#lamba: es una palabra reservada que me permite darle múltiples valores e inclusive instrucciones a una misma variable.\n",
    "x = lambda a, b : a * b\n",
    "print(x(5, 6))\n",
    "\n",
    "#finally: se ejecuta después de los bloques try y except. El bloque finalmente siempre se ejecuta.\n",
    "def divide(x, y):\n",
    "    try:\n",
    "        result = x // y\n",
    "    except ZeroDivisionError:\n",
    "        print(\"Sorry, You are dividing by zero \")\n",
    "    else:\n",
    "        print(\"Yeah, Your answer is :\", result)\n",
    "    finally: \n",
    "        print('This is always executed')  \n",
    " \n",
    "divide(3, 2)\n",
    "divide(3, 0)"
   ]
  },
  {
   "cell_type": "code",
   "execution_count": null,
   "id": "95b846e2",
   "metadata": {},
   "outputs": [],
   "source": [
    "#Un script de python posee una extensión .py"
   ]
  },
  {
   "cell_type": "code",
   "execution_count": null,
   "id": "e4ac5472",
   "metadata": {},
   "outputs": [],
   "source": [
    "#Una variable, su valor que puede cambiar.\n",
    "#Una constante su valor es igual siempre."
   ]
  },
  {
   "cell_type": "code",
   "execution_count": null,
   "id": "b2ea94aa",
   "metadata": {},
   "outputs": [],
   "source": [
    "#En una variable, su valor puede cambiar.\n",
    "#En una constante, su valor se mantiene el mismo."
   ]
  },
  {
   "cell_type": "code",
   "execution_count": 2,
   "id": "b704cb89",
   "metadata": {},
   "outputs": [
    {
     "name": "stdout",
     "output_type": "stream",
     "text": [
      "8\n"
     ]
    }
   ],
   "source": [
    "print(48%10)\n",
    "#Resultado 8."
   ]
  },
  {
   "cell_type": "code",
   "execution_count": 3,
   "id": "3182cb3a",
   "metadata": {},
   "outputs": [
    {
     "name": "stdout",
     "output_type": "stream",
     "text": [
      "1.0\n"
     ]
    }
   ],
   "source": [
    "print((3 - 4) * 10 / 5 + 24 / 2 ** 3)\n",
    "#Resultado 1."
   ]
  },
  {
   "cell_type": "code",
   "execution_count": 4,
   "id": "60a08dcc",
   "metadata": {},
   "outputs": [
    {
     "data": {
      "text/plain": [
       "str"
      ]
     },
     "execution_count": 4,
     "metadata": {},
     "output_type": "execute_result"
    }
   ],
   "source": [
    "number = 555\n",
    "stringNumber = str(number)\n",
    "type(stringNumber)\n",
    "#Con str()"
   ]
  },
  {
   "cell_type": "code",
   "execution_count": null,
   "id": "27c750cf",
   "metadata": {},
   "outputs": [],
   "source": [
    "#Sí, dado que esperamos el input del usuario para poder seguir con la secuencia de líneas del programa."
   ]
  },
  {
   "cell_type": "code",
   "execution_count": 26,
   "id": "84b2bef3",
   "metadata": {},
   "outputs": [
    {
     "name": "stdout",
     "output_type": "stream",
     "text": [
      "Ingrese su nombre:Derek\n",
      "Ingrese su primer apellido:Arbaiza\n",
      "Ingrese su segundo apellido:Barrantes\n",
      "Derek Arbaiza Barrantes\n"
     ]
    }
   ],
   "source": [
    "name = input(\"Ingrese su nombre:\")\n",
    "last_name = input(\"Ingrese su primer apellido:\")\n",
    "second_last_name = input(\"Ingrese su segundo apellido:\")\n",
    "print(name, last_name, second_last_name)"
   ]
  },
  {
   "cell_type": "code",
   "execution_count": 25,
   "id": "da962f58",
   "metadata": {},
   "outputs": [
    {
     "name": "stdout",
     "output_type": "stream",
     "text": [
      "Ingrese la cantidad en colores5\n",
      "Colones: 2900\n"
     ]
    }
   ],
   "source": [
    "def conversionExchangeRate(colones):\n",
    "    result = (colones*580)\n",
    "    return(print(\"Colones:\", result))\n",
    "\n",
    "input_colones = int(input(\"Ingrese la cantidad en colores\"))\n",
    "conversionExchangeRate(input_colones)"
   ]
  },
  {
   "cell_type": "code",
   "execution_count": 28,
   "id": "239797a4",
   "metadata": {},
   "outputs": [
    {
     "name": "stdout",
     "output_type": "stream",
     "text": [
      "Ingrese la base:5\n",
      "Ingrese la altura:5\n",
      "La base del triángulo es de:  12.5\n"
     ]
    }
   ],
   "source": [
    "def getArea():\n",
    "    base = int(input(\"Ingrese la base:\"))\n",
    "    height = int(input(\"Ingrese la altura:\"))\n",
    "    result = ((base*height)/2)\n",
    "    return(print(\"La base del triángulo es de: \", result))\n",
    "\n",
    "\n",
    "getArea()"
   ]
  },
  {
   "cell_type": "code",
   "execution_count": 30,
   "id": "1e66c6ab",
   "metadata": {},
   "outputs": [
    {
     "name": "stdout",
     "output_type": "stream",
     "text": [
      "Ingrese la cantidad de horas laboradas:25\n",
      "Ingrese el precio de una hora5\n",
      "Salario:  125\n"
     ]
    }
   ],
   "source": [
    "def getSalary():\n",
    "    hours = int(input(\"Ingrese la cantidad de horas laboradas:\"))\n",
    "    payment_per_hour = int(input(\"Ingrese el precio de una hora\"))\n",
    "    return(print(\"Salario: \", (hours*payment_per_hour)))\n",
    "    \n",
    "getSalary()"
   ]
  },
  {
   "cell_type": "code",
   "execution_count": null,
   "id": "2b812145",
   "metadata": {},
   "outputs": [],
   "source": [
    "#Derek Arbaiza Barrantes\n",
    "#Análisis de datos con Python\n",
    "#Asignación 1"
   ]
  }
 ],
 "metadata": {
  "kernelspec": {
   "display_name": "Python 3 (ipykernel)",
   "language": "python",
   "name": "python3"
  },
  "language_info": {
   "codemirror_mode": {
    "name": "ipython",
    "version": 3
   },
   "file_extension": ".py",
   "mimetype": "text/x-python",
   "name": "python",
   "nbconvert_exporter": "python",
   "pygments_lexer": "ipython3",
   "version": "3.9.12"
  }
 },
 "nbformat": 4,
 "nbformat_minor": 5
}
