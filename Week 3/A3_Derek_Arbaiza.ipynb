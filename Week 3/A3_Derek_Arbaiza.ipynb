{
 "cells": [
  {
   "cell_type": "code",
   "execution_count": null,
   "id": "8aa6982e",
   "metadata": {},
   "outputs": [],
   "source": [
    "#Derek Arbaiza Barrantes\n",
    "#Análisis de datos con Python.\n",
    "#Asignación 3."
   ]
  },
  {
   "cell_type": "code",
   "execution_count": null,
   "id": "cf73f514",
   "metadata": {},
   "outputs": [],
   "source": [
    "#1\n",
    "#la diferencia entre una lista y un diccionario es que una lista usa su ubicación basado en su posición, \n",
    "#mientras el diccionario usa su locación basado en llave-contenido."
   ]
  },
  {
   "cell_type": "code",
   "execution_count": null,
   "id": "8da69add",
   "metadata": {},
   "outputs": [],
   "source": [
    "#2\n",
    "#Solo index()."
   ]
  },
  {
   "cell_type": "code",
   "execution_count": 4,
   "id": "365ad024",
   "metadata": {},
   "outputs": [
    {
     "name": "stdout",
     "output_type": "stream",
     "text": [
      "ufidelitas\n"
     ]
    }
   ],
   "source": [
    "#3\n",
    "x = \"From: alineros@ufidelitas.ac.cr\"\n",
    "x_line = x[15:25]\n",
    "print(x_line)"
   ]
  },
  {
   "cell_type": "code",
   "execution_count": 8,
   "id": "c2f719bf",
   "metadata": {},
   "outputs": [
    {
     "name": "stdout",
     "output_type": "stream",
     "text": [
      "LA CIENCIA DE LA COMPUTACIÓN ES INTELECTUALMENTE IMPORTANTE\n",
      "\n",
      "La invención del computador en el siglo XX es un evento de los que ocurren “una vez cada milenio” comparable en importancia al desarrollo de la escritura y a la invención de la imprenta. Los computadores son fundamentalmente diferentes de cualquier otra invención tecnológica del pasado porque, de manera directa, acrecientan el pensamiento humano, en lugar, por decir algo, de ejercitar la  función de sus músculos o sentidos. Los computadores han tenido ya un enorme impacto en cómo vivimos, pensamos y actuamos. Aún así es difícil subestimar la importancia que tendrán en el futuro. De hecho muchas personas piensan que la verdadera revolución generada por los computadores no ocurrirá hasta que todas las personas puedan comprender suficientemente bien la ciencia de la computación y puedan usarla de manera realmente innovadora.\n",
      "\n",
      "\n",
      "\n",
      "No es exagerado decir que hoy en día nuestras vidas dependen de los sistemas de computación y de las personas que los mantienen. Estos permiten que estemos seguros en las carreteras y en el aire, ayudan a los médicos a diagnosticar y tratar problemas de salud, además de jugar un papel crítico en el diseño de nuevas farmacoterapias.\n",
      "\n",
      "\n",
      "\n",
      "¿Por qué es importante entonces estudiar ciencias de la computación? Vivimos en un mundo digitalizado, computarizado, programable y para poder entender esa realidad necesitamos la ciencia de la computación. El ingeniero que usa un computador para diseñar un puente debe entender cómo se computaron los estimados de carga máxima y qué tan confiables son. Los ciudadanos educados  que depositan su voto mediante un sistema digital o participan en subastas de eBay deben tener una compresión básica de los algoritmos que subyacen en esos sistemas, así como de los temas de seguridad y privacidad presentes, cuando se trasmite información y se almacena digitalmente.\n",
      "\n",
      "\n",
      "\n",
      "Los estudiantes de ciencias de la computación aprenden razonamiento lógico, pensamiento algorítmico y solución estructurada de problemas -todos estos conceptos y habilidades valiosos mucho más allá del aula donde se aprende esta ciencia-. Los estudiantes ganan conciencia de los recursos requeridos para implementar y desplegar una solución, además de aprender a manejar las restricciones impuestas por el mundo real. Estas habilidades pueden aplicarse en muchos contextos, desde ciencia e ingeniería hasta humanidades y negocios y han contribuido ya a una comprensión más profunda en muchas áreas. Las simulaciones hechas en computador son fundamentales para el descubrimiento y comprensión de las leyes fundamentales que gobiernan una gran diversidad de sistemas que van desde cómo consiguen su alimento las hormigas hasta cómo se comportan los mercados de acciones. La ciencia de la computación también es una de las disciplinas líderes para ayudarnos a entender cómo trabaja la mente humana, una de las grandes preguntas intelectuales de todos los tiempos.\n",
      "\n",
      "\n",
      "\n",
      "\n",
      "\n",
      "LA CIENCIA DE LA COMPUTACIÓN CONDUCE A MÚLTIPLES OPORTUNIDADES PROFESIONALES\n",
      "\n",
      "Muchos de los trabajos que desempeñarán los estudiantes en 10 o 20 años, no se han inventado todavía. Profesionales de todas las disciplinas, desde arte y entretenimiento, hasta comunicación y salud; desde trabajadores de fábrica hasta dueños de pequeños negocios y administradores de puntos de venta al detal, deben entender sobre computación para ser globalmente competitivos en sus campos de acción.\n",
      "\n",
      "     \n",
      "\n",
      "Existe un vínculo innegable entre el éxito, la innovación y la ciencia de la computación. Películas como “Los Increíbles” y “El Señor de los Anillos” necesitaron del desarrollo de nuevas técnicas de computación. Los avances en la comprensión de la genética de las enfermedades o la creación de una nueva vacuna para el HIV, requieren profesionales que piensen en los términos de la ciencia de la computación porque si no lo hacen los problemas no tendrán solución. Los que entienden la tecnología pueden hacer las nuevas películas e inventar las nuevas técnicas y son los profesionales que simplemente irán más lejos que simplemente usar  lo que otros han inventado.\n",
      "\n",
      "\n",
      "\n",
      "Los profesionales en ciencias de la computación raramente ocupan sus días  programando. Generalmente trabajan con expertos de muchos campos diseñando y construyendo sistemas de cómputo para muchos aspectos de nuestra sociedad.\n",
      "\n",
      "\n",
      "\n",
      "\n",
      "\n",
      "LA CIENCIA DE LA COMPUTACIÓN ENSEÑA A SOLUCIONAR PROBLEMAS\n",
      "\n",
      "Artistas, filósofos, diseñadores y científicos en todas las disciplinas están unidos en la actividad intensamente creativa de resolver problemas. La ciencia de la computación enseña a los estudiantes a pensar sobre el proceso mismo de solución de problemas. En la ciencia de la computación, el primer paso para solucionar un problema siempre es plantearlo con claridad y sin ambigüedades.\n",
      "\n",
      "\n",
      "\n",
      "Una vez se defina bien el problema, se debe generar una solución. Además, deben seleccionarse o construirse tanto el hardware computacional y periféricos como diseñarse los programas de computador necesarios y estos últimos se deben escribir y ensayar/probar. Los sistemas de software existentes y los paquetes de aplicativos, deben modificarse e integrarse dentro del sistema final. Construir un sistema es un proceso creativo que hace mejor nuestra vida! y que requiere también pensamiento científico. Con cada corrección de fallas o con la generación de nuevas características, se esgrime la hipótesis de que el problema ha sido resuelto. Se recogen los datos, se analizan los resultados y si la hipótesis resulta falsa, cosa que ocurre con frecuencia, el ciclo se repite.\n",
      "\n",
      "\n",
      "\n",
      " \n",
      "\n",
      "\n",
      "\n",
      "LA CIENCIA DE LA COMPUTACIÓN SE APOYA Y RELACIONA CON OTRAS CIENCIAS\n",
      "\n",
      "El progreso en ciencia siempre se ha relacionado con el progreso en tecnología y viceversa. Para solucionar un problema científico complejo del Siglo XXI, como el manejo de nuevas enfermedades y el cambio climático, se necesitan personas con habilidades y perspectivas diversas. Y aunque parezca sorprendente, la ciencia de la computación nos puede enseñar a comprender lo que realmente significa ser humano. La secuenciación del Genoma humano en el 2001 fue un hito histórico de la biología molecular, que no hubiera sido posible sin los científicos de la computación.\n",
      "\n",
      "\n",
      "\n",
      "No es necesario ser neurocientífico para darse cuenta de que el cerebro humano es sorprendente y aún así, tenemos una comprensión muy pobre de los mecanismos computacionales que este utiliza para llevar a cabo muchas tareas. Inferir el significado a partir de imágenes, es una tarea computacional y los científicos de la computación y los neurocientíficos, están trabajando en conjunto para construir computadores que puedan procesar imágenes y,  como fin último, entender la inteligencia misma.\n",
      "\n",
      "\n",
      "\n",
      "El uso de modelos y simulaciones, la visualización y el manejo de enormes cantidades de datos, ha creado un nuevo campo, la ciencia computacional. Este campo integra muchos aspectos de la ciencia de la computación como el diseño de gráficas y algoritmos.\n",
      "\n",
      "\n",
      "\n",
      " \n",
      "\n",
      "\n",
      "\n",
      "LA CIENCIA DE LA COMPUTACIÓN PUEDE “ENGANCHAR” A TODOS LOS ESTUDIANTES\n",
      "\n",
      "La ciencia de la computación se aplica prácticamente a todos los aspectos de la vida, así que esta puede relacionarse con una enorme cantidad de intereses de los estudiantes. Estos pueden estar encantados con tecnologías específicas como el teléfono celular o tener una pasión innata por el diseño gráfico, el entretenimiento digital o ayudar a la sociedad. La enseñanza de la ciencia de la computación debe alimentar los intereses de los estudiantes, sus pasiones y su sentido de comprometerse con el mundo que los rodea y que les ofrece oportunidades para encontrarle propósito y significado a sus vidas.\n",
      "\n",
      "\n",
      "\n",
      "Pedagógicamente, la programación de computadores tiene la misma relación con el estudio de la ciencia de la computación, de la que tiene tocar un instrumento musical con estudiar música o estudiar arte, con pintar. El objetivo para enseñar ciencia de la computación debe ser lograr que el mayor número de estudiantes posible se comprometa y con entusiasmo en cada tarea. En lugar de escribir el mismo programa de cálculo de hipotecas, pida a sus estudiantes diseñar y escribir programas que controlen sus teléfonos celulares o robots, generen simulaciones de física y biología o compongan música. Los estudiantes van a querer aprender a usar condicionales, ciclos, parámetros y otros conceptos fundamentales, simplemente para lograr que estas cosas interesantes, sucedan.\n",
      "\n",
      "\n",
      "\n",
      "Manipular y crear medios digitales es una estrategia que “engancha” a los estudiantes y que se integra fácilmente con los objetivos de aprendizaje de la ciencia de la computación. Los estudiantes pueden aprender que combinar dos arreglos (arrays) es la técnica que se usa para empalmar y mezclar sonidos digitales. Las listas enlazadas o interrelacionadas son mucho más interesantes cuando los nodos contienen música o fotografías, de manera que al recorrer la lista se escuche música o se genere el marco para una animación. Contextos similares a este son la robótica y la narrativa con medios digitales.\n",
      "\n",
      "\n",
      "\n",
      "Parear programación se refiere a la práctica en la que dos programadores trabajan juntos en un computador, colaborando en el mismo diseño, algoritmo, código o prueba/depuración. El pareo se hace con un conductor que digita activamente en el equipo o registra un diseño; y un navegador, que observa el trabajo del conductor e identifica rápidamente problemas, fórmula preguntas que ayudan a ganar claridad y hace sugerencias. Ambos, continuamente se asocian para producir lluvia de ideas. \n",
      "\n",
      "\n",
      "\n",
      "En nuestro módulo “Computadores y Artes Visuales”, describimos cómo la tecnología computacional y las artes gráficas se han desarrollado en paralelo. Usamos programas de dibujo estándar para ilustrar de qué manera las imágenes pueden representarse digitalmente. Describimos los principios que subyacen en diferentes tipos de archivos (jpg, gif, png, etc). Usando un lenguaje de programación estándar, presentamos luego formas algorítmicas de representar imágenes geométricas y de introducir ciclos, así como condicionales del tipo si… entonces..., como una manera de generar patrones geométricos. Finalmente, presentamos, mediante el uso de métodos puramente visuales, sistemas generativos, que se pueden usar para representar imágenes complejas, como plantas y que comunican a los estudiantes el concepto de recursión.\n",
      "\n",
      "\n",
      "\n",
      "En nuestro módulo “Computadores y Biología”, nos enfocamos en biología molecular y en la secuenciación del genoma humano. Mediante una corta introducción al ADN, explicamos cómo nuestra herencia genética está representada digitalmente en nuestro genoma. Algunos problemas biológicos constituyen vehículos apropiados para mostrar el hecho de que algunos problemas computacionales no parecen tener una solución efectiva.\n",
      " \n"
     ]
    }
   ],
   "source": [
    "#4\n",
    "import os\n",
    "handler = open(\"ciencia.txt\", encoding=\"utf8\")\n",
    "for line in handler:\n",
    "    print(line)"
   ]
  },
  {
   "cell_type": "code",
   "execution_count": null,
   "id": "bf62ad04",
   "metadata": {},
   "outputs": [],
   "source": [
    "#5\n",
    "#Todos los datos del archivo se leen en la memoria y se almacenan en el manejador.\n",
    "#Verdadera. El método open(), lee los archivos que están en memoria y luego se contienen dentro del handler.\n",
    "\n",
    "#El manejador tiene una lista de todos los archivos en una carpeta particular en el disco duro.\n",
    "#False. El manejador no va a contener más que el contenido del archivo seleccionado en el parámetro del path.\n",
    "\n",
    "#El identificador es una conexión a los datos del archivo.\n",
    "#Falso. El identificador es donde está contenido del archivo.\n",
    "\n",
    "#El identificador contiene las primeras 10 líneas de un archivo.\n",
    "#Falso. El identificador (o variable handeler) contiene la todalidad del archivo."
   ]
  },
  {
   "cell_type": "code",
   "execution_count": null,
   "id": "73ebd639",
   "metadata": {},
   "outputs": [],
   "source": [
    "#6\n",
    "#try & except"
   ]
  },
  {
   "cell_type": "code",
   "execution_count": 10,
   "id": "dc775bdf",
   "metadata": {},
   "outputs": [
    {
     "name": "stdout",
     "output_type": "stream",
     "text": [
      "Ingrese el número: 500\n",
      "Ingrese la base:250\n",
      "El resultado es  1.1255369169267455\n"
     ]
    }
   ],
   "source": [
    "#7\n",
    "def getLog():\n",
    "    import math\n",
    "    number = float(input(\"Ingrese el número: \"))\n",
    "    base = float(input(\"Ingrese la base:\"))\n",
    "    return(print(\"El resultado es \", math.log(number,base)))\n",
    "getLog()\n",
    "        "
   ]
  },
  {
   "cell_type": "code",
   "execution_count": null,
   "id": "748448f2",
   "metadata": {},
   "outputs": [],
   "source": [
    "#8\n",
    "file_handeler = open(\"python_robots.txt\", encoding=\"utf8\")"
   ]
  },
  {
   "cell_type": "code",
   "execution_count": 18,
   "id": "9f132556",
   "metadata": {},
   "outputs": [
    {
     "name": "stdout",
     "output_type": "stream",
     "text": [
      "La palabra Python se repite 10 veces\n",
      "La palabra robotic se repite 5 veces\n",
      "La palabra language se repite 4 veces\n",
      "La palabra company se repite 3 veces\n",
      "La palabra applications se repite 3 veces\n",
      "La palabra Robotics se repite 3 veces\n"
     ]
    }
   ],
   "source": [
    "#9\n",
    "file_manager = open(\"python_robots.txt\", encoding=\"utf8\")\n",
    "counter_dict = dict() \n",
    "\n",
    "for line in file_manager:\n",
    "    words = line.split()\n",
    "    for word in words:\n",
    "        if len(word) > 5: \n",
    "            counter_dict[word] = counter_dict.get(word, 0) + 1\n",
    "        else:\n",
    "            continue\n",
    "            \n",
    "inverse_list = list()\n",
    "\n",
    "for word_key,word_value in counter_dict.items():\n",
    "    newList = (word_value, word_key)\n",
    "    inverse_list.append(newList)   \n",
    "\n",
    "inverse_list = sorted(inverse_list, reverse=True)\n",
    "\n",
    "for word_value, word_key in inverse_list[:6]:\n",
    "    print(\"La palabra\", word_key,\"está\",word_value,\"veces.\")"
   ]
  },
  {
   "cell_type": "code",
   "execution_count": 29,
   "id": "8b1d4a93",
   "metadata": {},
   "outputs": [
    {
     "name": "stdout",
     "output_type": "stream",
     "text": [
      "4 hours ago.\n",
      "\n",
      "1 day ago.\n",
      "\n",
      "23 minutes ago.\n",
      "\n",
      "4 hours ago\n",
      "\n",
      "6 hours ago.\n",
      "\n",
      "3 hours ago.\n",
      "\n",
      "5 Reasons Python is Still the King of Programming Languages\n",
      "\n",
      "1 hour ago.\n",
      "\n",
      "1 hour ago.\n",
      "\n",
      "2 hours ago.\n",
      "\n",
      "4 hours ago\n"
     ]
    }
   ],
   "source": [
    "#10\n",
    "file_handeler = open(\"news.txt\")\n",
    "for line in file_handeler:\n",
    "    if (line.startswith(\"1\") or \n",
    "        line.startswith(\"2\") or \n",
    "        line.startswith(\"3\") or \n",
    "        line.startswith(\"4\") or \n",
    "        line.startswith(\"5\") or \n",
    "        line.startswith(\"6\") or \n",
    "        line.startswith(\"7\") or \n",
    "        line.startswith(\"8\") or \n",
    "        line.startswith(\"9\") or \n",
    "        line.startswith(\"0\") and \n",
    "       line.endswith(\".\")):\n",
    "        print(line)"
   ]
  }
 ],
 "metadata": {
  "kernelspec": {
   "display_name": "Python 3 (ipykernel)",
   "language": "python",
   "name": "python3"
  },
  "language_info": {
   "codemirror_mode": {
    "name": "ipython",
    "version": 3
   },
   "file_extension": ".py",
   "mimetype": "text/x-python",
   "name": "python",
   "nbconvert_exporter": "python",
   "pygments_lexer": "ipython3",
   "version": "3.9.12"
  }
 },
 "nbformat": 4,
 "nbformat_minor": 5
}
