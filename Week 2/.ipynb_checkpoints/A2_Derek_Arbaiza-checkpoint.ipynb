{
 "cells": [
  {
   "cell_type": "code",
   "execution_count": 10,
   "id": "3fdd99e0",
   "metadata": {},
   "outputs": [
    {
     "name": "stdout",
     "output_type": "stream",
     "text": [
      "['Matemáticas', 'Programación', 'Inglés', 'Algoritmos', 'Teoría']\n",
      "['Matemáticas', 'Programación', 'Inglés', 'Algoritmos', 'Teoría', 'A', 'B']\n"
     ]
    }
   ],
   "source": [
    "#1\n",
    "subjects = [\"Matemáticas\", \"Programación\", \"Inglés\", \"Algoritmos\", \"Teoría\"]\n",
    "print(subjects)\n",
    "pendining_subjects = [\"Métodos Cuantitativos\", \"Álgebra Lineal\"]\n",
    "subjects.extend(pendining_subjects)\n",
    "print(subjects)"
   ]
  },
  {
   "cell_type": "code",
   "execution_count": 22,
   "id": "ad715dd6",
   "metadata": {},
   "outputs": [
    {
     "name": "stdout",
     "output_type": "stream",
     "text": [
      "Ingrese un número: 8\n",
      "Ingrese un número: 2\n",
      "Ingrese un número: 9\n",
      "Ingrese un número: 3\n",
      "Ingrese un número: 0\n",
      "Ingrese un número: 4\n",
      "Ingrese un número: 24\n",
      "Ingrese un número: 5\n",
      "Ingrese un número: 31\n",
      "Ingrese un número: 78\n",
      "[78, 31, 24, 9, 8, 5, 4, 3, 2, 0]\n"
     ]
    }
   ],
   "source": [
    "#2\n",
    "numbers = []\n",
    "for i in range(10):\n",
    "    number = int(input(\"Ingrese un número: \"))\n",
    "    numbers.append(number)\n",
    "numbers.sort(reverse=True)\n",
    "print(numbers)\n"
   ]
  },
  {
   "cell_type": "code",
   "execution_count": 27,
   "id": "8c6c1a15",
   "metadata": {},
   "outputs": [
    {
     "name": "stdout",
     "output_type": "stream",
     "text": [
      "8\n",
      "80\n"
     ]
    }
   ],
   "source": [
    "#3\n",
    "prices = [50, 75, 46, 22, 80, 65, 8]\n",
    "print(min(prices))\n",
    "print(max(prices))"
   ]
  },
  {
   "cell_type": "code",
   "execution_count": 31,
   "id": "172bf08c",
   "metadata": {},
   "outputs": [
    {
     "name": "stdout",
     "output_type": "stream",
     "text": [
      "6\n"
     ]
    }
   ],
   "source": [
    "#4\n",
    "cadena = \"Nombre: Gustavo\"\n",
    "position = cadena.find(\":\")\n",
    "print(position)"
   ]
  },
  {
   "cell_type": "code",
   "execution_count": 33,
   "id": "d68be56a",
   "metadata": {},
   "outputs": [
    {
     "name": "stdout",
     "output_type": "stream",
     "text": [
      "Ingrese su temperatura: 39\n",
      "No puede ingresar\n"
     ]
    }
   ],
   "source": [
    "#5\n",
    "temperature = float(input(\"Ingrese su temperatura: \"))\n",
    "if temperature > 38:\n",
    "    print(\"No puede ingresar.\")\n",
    "else:\n",
    "    print(\"Adelante.\")"
   ]
  },
  {
   "cell_type": "code",
   "execution_count": 40,
   "id": "c7f11f35",
   "metadata": {},
   "outputs": [
    {
     "name": "stdout",
     "output_type": "stream",
     "text": [
      "Ingrese un numero0\n",
      "El número es cero\n"
     ]
    }
   ],
   "source": [
    "#6\n",
    "number = int(input(\"Ingrese un numero: \"))\n",
    "if number > 0:\n",
    "  print(\"El número es positivo\")\n",
    "elif number < 0:\n",
    "  print(\"El número es negativo\")\n",
    "else:\n",
    "  print(\"El número es cero\")"
   ]
  },
  {
   "cell_type": "code",
   "execution_count": null,
   "id": "31650d32",
   "metadata": {},
   "outputs": [],
   "source": [
    "#7 \n",
    "#La variable de iteración es \"letra\""
   ]
  },
  {
   "cell_type": "code",
   "execution_count": null,
   "id": "5c8179db",
   "metadata": {},
   "outputs": [],
   "source": [
    "#8\n",
    "#No hay ningún indicador de cuando detenerse, \n",
    "#porque siempre \"n\" va a valer 5 y la condición siempre se va a cumplir."
   ]
  },
  {
   "cell_type": "code",
   "execution_count": null,
   "id": "d9e2d06b",
   "metadata": {},
   "outputs": [],
   "source": [
    "#9 \n",
    "#Break es la instrucción que en caso de cumplirse la condición, se detenga el flujo del programa\n",
    "#Continue es lo contrario; en caso de cumplirse, no detiene el flujo del programa. "
   ]
  },
  {
   "cell_type": "code",
   "execution_count": 41,
   "id": "b64d35a4",
   "metadata": {},
   "outputs": [
    {
     "name": "stdout",
     "output_type": "stream",
     "text": [
      "Edad20\n",
      "Edad25\n",
      "Edad30\n",
      "Edad5\n"
     ]
    }
   ],
   "source": [
    "continue_program = True\n",
    "while continue_program == True:\n",
    "    age = int(input(\"Ingrese la edad: \"))\n",
    "    if(age > 18):\n",
    "        continue\n",
    "    else:\n",
    "        break"
   ]
  }
 ],
 "metadata": {
  "kernelspec": {
   "display_name": "Python 3 (ipykernel)",
   "language": "python",
   "name": "python3"
  },
  "language_info": {
   "codemirror_mode": {
    "name": "ipython",
    "version": 3
   },
   "file_extension": ".py",
   "mimetype": "text/x-python",
   "name": "python",
   "nbconvert_exporter": "python",
   "pygments_lexer": "ipython3",
   "version": "3.9.12"
  }
 },
 "nbformat": 4,
 "nbformat_minor": 5
}
